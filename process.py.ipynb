{
 "cells": [
  {
   "cell_type": "markdown",
   "metadata": {},
   "source": [
    "## requirements"
   ]
  },
  {
   "cell_type": "code",
   "execution_count": 3,
   "metadata": {},
   "outputs": [
    {
     "name": "stdout",
     "output_type": "stream",
     "text": [
      "Reading package lists... Done\n",
      "W: chmod 0700 of directory /var/lib/apt/lists/partial failed - SetupAPTPartialDirectory (1: Operation not permitted)\n",
      "E: Could not open lock file /var/lib/apt/lists/lock - open (13: Permission denied)\n",
      "E: Unable to lock directory /var/lib/apt/lists/\n",
      "W: Problem unlinking the file /var/cache/apt/pkgcache.bin - RemoveCaches (13: Permission denied)\n",
      "W: Problem unlinking the file /var/cache/apt/srcpkgcache.bin - RemoveCaches (13: Permission denied)\n",
      "E: Could not open lock file /var/lib/dpkg/lock-frontend - open (13: Permission denied)\n",
      "E: Unable to acquire the dpkg frontend lock (/var/lib/dpkg/lock-frontend), are you root?\n",
      "Collecting JPype1-py3\n",
      "  Using cached JPype1-py3-0.5.5.4.tar.gz (88 kB)\n",
      "Requirement already satisfied: konlpy in /home/nine/venvs/proj1/lib/python3.5/site-packages (0.5.2)\n",
      "Requirement already satisfied: pandas in /home/nine/venvs/proj1/lib/python3.5/site-packages (0.24.2)\n",
      "Collecting tqdm\n",
      "  Downloading tqdm-4.48.0-py2.py3-none-any.whl (67 kB)\n",
      "\u001b[K     |████████████████████████████████| 67 kB 764 kB/s eta 0:00:011\n",
      "\u001b[?25hRequirement already satisfied: JPype1>=0.7.0 in /home/nine/venvs/proj1/lib/python3.5/site-packages (from konlpy) (1.0.1)\n",
      "Requirement already satisfied: lxml>=4.1.0 in /home/nine/venvs/proj1/lib/python3.5/site-packages (from konlpy) (4.5.2)\n",
      "Requirement already satisfied: tweepy>=3.7.0 in /home/nine/venvs/proj1/lib/python3.5/site-packages (from konlpy) (3.9.0)\n",
      "Requirement already satisfied: colorama in /home/nine/venvs/proj1/lib/python3.5/site-packages (from konlpy) (0.4.3)\n",
      "Requirement already satisfied: numpy>=1.6 in /home/nine/venvs/proj1/lib/python3.5/site-packages (from konlpy) (1.18.5)\n",
      "Requirement already satisfied: beautifulsoup4==4.6.0 in /home/nine/venvs/proj1/lib/python3.5/site-packages (from konlpy) (4.6.0)\n",
      "Requirement already satisfied: python-dateutil>=2.5.0 in /home/nine/venvs/proj1/lib/python3.5/site-packages (from pandas) (2.8.1)\n",
      "Requirement already satisfied: pytz>=2011k in /home/nine/venvs/proj1/lib/python3.5/site-packages (from pandas) (2020.1)\n",
      "Requirement already satisfied: typing-extensions; python_version < \"3.8\" in /home/nine/venvs/proj1/lib/python3.5/site-packages (from JPype1>=0.7.0->konlpy) (3.7.4.2)\n",
      "Requirement already satisfied: requests-oauthlib>=0.7.0 in /home/nine/venvs/proj1/lib/python3.5/site-packages (from tweepy>=3.7.0->konlpy) (1.3.0)\n",
      "Requirement already satisfied: six>=1.10.0 in /home/nine/venvs/proj1/lib/python3.5/site-packages (from tweepy>=3.7.0->konlpy) (1.15.0)\n",
      "Requirement already satisfied: requests[socks]>=2.11.1 in /home/nine/venvs/proj1/lib/python3.5/site-packages (from tweepy>=3.7.0->konlpy) (2.24.0)\n",
      "Requirement already satisfied: oauthlib>=3.0.0 in /home/nine/venvs/proj1/lib/python3.5/site-packages (from requests-oauthlib>=0.7.0->tweepy>=3.7.0->konlpy) (3.1.0)\n",
      "Requirement already satisfied: urllib3!=1.25.0,!=1.25.1,<1.26,>=1.21.1 in /home/nine/venvs/proj1/lib/python3.5/site-packages (from requests[socks]>=2.11.1->tweepy>=3.7.0->konlpy) (1.25.9)\n",
      "Requirement already satisfied: idna<3,>=2.5 in /home/nine/venvs/proj1/lib/python3.5/site-packages (from requests[socks]>=2.11.1->tweepy>=3.7.0->konlpy) (2.10)\n",
      "Requirement already satisfied: chardet<4,>=3.0.2 in /home/nine/venvs/proj1/lib/python3.5/site-packages (from requests[socks]>=2.11.1->tweepy>=3.7.0->konlpy) (3.0.4)\n",
      "Requirement already satisfied: certifi>=2017.4.17 in /home/nine/venvs/proj1/lib/python3.5/site-packages (from requests[socks]>=2.11.1->tweepy>=3.7.0->konlpy) (2020.6.20)\n",
      "Requirement already satisfied: PySocks!=1.5.7,>=1.5.6; extra == \"socks\" in /home/nine/venvs/proj1/lib/python3.5/site-packages (from requests[socks]>=2.11.1->tweepy>=3.7.0->konlpy) (1.7.1)\n",
      "Building wheels for collected packages: JPype1-py3\n",
      "  Building wheel for JPype1-py3 (setup.py) ... \u001b[?25lerror\n",
      "\u001b[31m  ERROR: Command errored out with exit status 1:\n",
      "   command: /home/nine/venvs/proj1/bin/python -u -c 'import sys, setuptools, tokenize; sys.argv[0] = '\"'\"'/tmp/pip-install-qra6hi9_/JPype1-py3/setup.py'\"'\"'; __file__='\"'\"'/tmp/pip-install-qra6hi9_/JPype1-py3/setup.py'\"'\"';f=getattr(tokenize, '\"'\"'open'\"'\"', open)(__file__);code=f.read().replace('\"'\"'\\r\\n'\"'\"', '\"'\"'\\n'\"'\"');f.close();exec(compile(code, __file__, '\"'\"'exec'\"'\"'))' bdist_wheel -d /tmp/pip-wheel-2pzpym1w\n",
      "       cwd: /tmp/pip-install-qra6hi9_/JPype1-py3/\n",
      "  Complete output (64 lines):\n",
      "  \n",
      "  ********* DEPRECATION WARNING *********\n",
      "  Warning: This version of JPype is now deprecated, see issue #29 for more details\n",
      "  Warning:     https://github.com/tcalmant/jpype-py3/issues/29\n",
      "  Warning:\n",
      "  Warning: Please use this version instead:\n",
      "  Warning:     https://github.com/jpype-project/jpype\n",
      "  Warning:\n",
      "  Warning: It can be installed using:\n",
      "  Warning:     pip install JPype1\n",
      "  ********* DEPRECATION WARNING *********\n",
      "  \n",
      "  running bdist_wheel\n",
      "  running build\n",
      "  running build_py\n",
      "  creating build\n",
      "  creating build/lib.linux-x86_64-3.5\n",
      "  creating build/lib.linux-x86_64-3.5/jpype\n",
      "  copying jpype/_jpackage.py -> build/lib.linux-x86_64-3.5/jpype\n",
      "  copying jpype/_linux.py -> build/lib.linux-x86_64-3.5/jpype\n",
      "  copying jpype/_jproxy.py -> build/lib.linux-x86_64-3.5/jpype\n",
      "  copying jpype/_core.py -> build/lib.linux-x86_64-3.5/jpype\n",
      "  copying jpype/_windows.py -> build/lib.linux-x86_64-3.5/jpype\n",
      "  copying jpype/nio.py -> build/lib.linux-x86_64-3.5/jpype\n",
      "  copying jpype/_jexception.py -> build/lib.linux-x86_64-3.5/jpype\n",
      "  copying jpype/_jvmfinder.py -> build/lib.linux-x86_64-3.5/jpype\n",
      "  copying jpype/JClassUtil.py -> build/lib.linux-x86_64-3.5/jpype\n",
      "  copying jpype/__init__.py -> build/lib.linux-x86_64-3.5/jpype\n",
      "  copying jpype/_jclass.py -> build/lib.linux-x86_64-3.5/jpype\n",
      "  copying jpype/_refdaemon.py -> build/lib.linux-x86_64-3.5/jpype\n",
      "  copying jpype/_jcollection.py -> build/lib.linux-x86_64-3.5/jpype\n",
      "  copying jpype/_cygwin.py -> build/lib.linux-x86_64-3.5/jpype\n",
      "  copying jpype/_jobject.py -> build/lib.linux-x86_64-3.5/jpype\n",
      "  copying jpype/_pykeywords.py -> build/lib.linux-x86_64-3.5/jpype\n",
      "  copying jpype/_darwin.py -> build/lib.linux-x86_64-3.5/jpype\n",
      "  copying jpype/_properties.py -> build/lib.linux-x86_64-3.5/jpype\n",
      "  copying jpype/reflect.py -> build/lib.linux-x86_64-3.5/jpype\n",
      "  copying jpype/_jwrapper.py -> build/lib.linux-x86_64-3.5/jpype\n",
      "  copying jpype/_jarray.py -> build/lib.linux-x86_64-3.5/jpype\n",
      "  copying jpype/_gui.py -> build/lib.linux-x86_64-3.5/jpype\n",
      "  creating build/lib.linux-x86_64-3.5/jpype/awt\n",
      "  copying jpype/awt/__init__.py -> build/lib.linux-x86_64-3.5/jpype/awt\n",
      "  creating build/lib.linux-x86_64-3.5/jpype/awt/event\n",
      "  copying jpype/awt/event/__init__.py -> build/lib.linux-x86_64-3.5/jpype/awt/event\n",
      "  copying jpype/awt/event/WindowAdapter.py -> build/lib.linux-x86_64-3.5/jpype/awt/event\n",
      "  creating build/lib.linux-x86_64-3.5/jpypex\n",
      "  copying jpypex/__init__.py -> build/lib.linux-x86_64-3.5/jpypex\n",
      "  creating build/lib.linux-x86_64-3.5/jpypex/swing\n",
      "  copying jpypex/swing/__init__.py -> build/lib.linux-x86_64-3.5/jpypex/swing\n",
      "  copying jpypex/swing/AbstractAction.py -> build/lib.linux-x86_64-3.5/jpypex/swing\n",
      "  copying jpypex/swing/pyutils.py -> build/lib.linux-x86_64-3.5/jpypex/swing\n",
      "  running build_ext\n",
      "  building '_jpype' extension\n",
      "  creating build/temp.linux-x86_64-3.5\n",
      "  creating build/temp.linux-x86_64-3.5/native\n",
      "  creating build/temp.linux-x86_64-3.5/native/common\n",
      "  creating build/temp.linux-x86_64-3.5/native/python\n",
      "  x86_64-linux-gnu-gcc -pthread -DNDEBUG -g -fwrapv -O2 -Wall -g -fstack-protector-strong -Wformat -Werror=format-security -Wdate-time -D_FORTIFY_SOURCE=2 -fPIC -Inative/common/include -Inative/python/include -I/usr/lib/jvm/java-8-openjdk-amd64/include -I/usr/lib/jvm/java-8-openjdk-amd64/include/linux -I/home/nine/venvs/proj1/include -I/usr/include/python3.5m -c native/common/jp_invocationhandler.cpp -o build/temp.linux-x86_64-3.5/native/common/jp_invocationhandler.o\n",
      "  In file included from native/common/jp_invocationhandler.cpp:1:0:\n",
      "  native/common/include/jpype.h:45:17: fatal error: jni.h: No such file or directory\n",
      "   #include <jni.h>\n",
      "                   ^\n",
      "  compilation terminated.\n",
      "  error: command 'x86_64-linux-gnu-gcc' failed with exit status 1\n",
      "  ----------------------------------------\u001b[0m\n",
      "\u001b[31m  ERROR: Failed building wheel for JPype1-py3\u001b[0m\n",
      "\u001b[?25h  Running setup.py clean for JPype1-py3\n"
     ]
    },
    {
     "name": "stdout",
     "output_type": "stream",
     "text": [
      "Failed to build JPype1-py3\n",
      "Installing collected packages: JPype1-py3, tqdm\n",
      "    Running setup.py install for JPype1-py3 ... \u001b[?25lerror\n",
      "\u001b[31m    ERROR: Command errored out with exit status 1:\n",
      "     command: /home/nine/venvs/proj1/bin/python -u -c 'import sys, setuptools, tokenize; sys.argv[0] = '\"'\"'/tmp/pip-install-qra6hi9_/JPype1-py3/setup.py'\"'\"'; __file__='\"'\"'/tmp/pip-install-qra6hi9_/JPype1-py3/setup.py'\"'\"';f=getattr(tokenize, '\"'\"'open'\"'\"', open)(__file__);code=f.read().replace('\"'\"'\\r\\n'\"'\"', '\"'\"'\\n'\"'\"');f.close();exec(compile(code, __file__, '\"'\"'exec'\"'\"'))' install --record /tmp/pip-record-4dvgnszi/install-record.txt --single-version-externally-managed --compile --install-headers /home/nine/venvs/proj1/include/site/python3.5/JPype1-py3\n",
      "         cwd: /tmp/pip-install-qra6hi9_/JPype1-py3/\n",
      "    Complete output (64 lines):\n",
      "    \n",
      "    ********* DEPRECATION WARNING *********\n",
      "    Warning: This version of JPype is now deprecated, see issue #29 for more details\n",
      "    Warning:     https://github.com/tcalmant/jpype-py3/issues/29\n",
      "    Warning:\n",
      "    Warning: Please use this version instead:\n",
      "    Warning:     https://github.com/jpype-project/jpype\n",
      "    Warning:\n",
      "    Warning: It can be installed using:\n",
      "    Warning:     pip install JPype1\n",
      "    ********* DEPRECATION WARNING *********\n",
      "    \n",
      "    running install\n",
      "    running build\n",
      "    running build_py\n",
      "    creating build\n",
      "    creating build/lib.linux-x86_64-3.5\n",
      "    creating build/lib.linux-x86_64-3.5/jpype\n",
      "    copying jpype/_jpackage.py -> build/lib.linux-x86_64-3.5/jpype\n",
      "    copying jpype/_linux.py -> build/lib.linux-x86_64-3.5/jpype\n",
      "    copying jpype/_jproxy.py -> build/lib.linux-x86_64-3.5/jpype\n",
      "    copying jpype/_core.py -> build/lib.linux-x86_64-3.5/jpype\n",
      "    copying jpype/_windows.py -> build/lib.linux-x86_64-3.5/jpype\n",
      "    copying jpype/nio.py -> build/lib.linux-x86_64-3.5/jpype\n",
      "    copying jpype/_jexception.py -> build/lib.linux-x86_64-3.5/jpype\n",
      "    copying jpype/_jvmfinder.py -> build/lib.linux-x86_64-3.5/jpype\n",
      "    copying jpype/JClassUtil.py -> build/lib.linux-x86_64-3.5/jpype\n",
      "    copying jpype/__init__.py -> build/lib.linux-x86_64-3.5/jpype\n",
      "    copying jpype/_jclass.py -> build/lib.linux-x86_64-3.5/jpype\n",
      "    copying jpype/_refdaemon.py -> build/lib.linux-x86_64-3.5/jpype\n",
      "    copying jpype/_jcollection.py -> build/lib.linux-x86_64-3.5/jpype\n",
      "    copying jpype/_cygwin.py -> build/lib.linux-x86_64-3.5/jpype\n",
      "    copying jpype/_jobject.py -> build/lib.linux-x86_64-3.5/jpype\n",
      "    copying jpype/_pykeywords.py -> build/lib.linux-x86_64-3.5/jpype\n",
      "    copying jpype/_darwin.py -> build/lib.linux-x86_64-3.5/jpype\n",
      "    copying jpype/_properties.py -> build/lib.linux-x86_64-3.5/jpype\n",
      "    copying jpype/reflect.py -> build/lib.linux-x86_64-3.5/jpype\n",
      "    copying jpype/_jwrapper.py -> build/lib.linux-x86_64-3.5/jpype\n",
      "    copying jpype/_jarray.py -> build/lib.linux-x86_64-3.5/jpype\n",
      "    copying jpype/_gui.py -> build/lib.linux-x86_64-3.5/jpype\n",
      "    creating build/lib.linux-x86_64-3.5/jpype/awt\n",
      "    copying jpype/awt/__init__.py -> build/lib.linux-x86_64-3.5/jpype/awt\n",
      "    creating build/lib.linux-x86_64-3.5/jpype/awt/event\n",
      "    copying jpype/awt/event/__init__.py -> build/lib.linux-x86_64-3.5/jpype/awt/event\n",
      "    copying jpype/awt/event/WindowAdapter.py -> build/lib.linux-x86_64-3.5/jpype/awt/event\n",
      "    creating build/lib.linux-x86_64-3.5/jpypex\n",
      "    copying jpypex/__init__.py -> build/lib.linux-x86_64-3.5/jpypex\n",
      "    creating build/lib.linux-x86_64-3.5/jpypex/swing\n",
      "    copying jpypex/swing/__init__.py -> build/lib.linux-x86_64-3.5/jpypex/swing\n",
      "    copying jpypex/swing/AbstractAction.py -> build/lib.linux-x86_64-3.5/jpypex/swing\n",
      "    copying jpypex/swing/pyutils.py -> build/lib.linux-x86_64-3.5/jpypex/swing\n",
      "    running build_ext\n",
      "    building '_jpype' extension\n",
      "    creating build/temp.linux-x86_64-3.5\n",
      "    creating build/temp.linux-x86_64-3.5/native\n",
      "    creating build/temp.linux-x86_64-3.5/native/common\n",
      "    creating build/temp.linux-x86_64-3.5/native/python\n",
      "    x86_64-linux-gnu-gcc -pthread -DNDEBUG -g -fwrapv -O2 -Wall -g -fstack-protector-strong -Wformat -Werror=format-security -Wdate-time -D_FORTIFY_SOURCE=2 -fPIC -Inative/common/include -Inative/python/include -I/usr/lib/jvm/java-8-openjdk-amd64/include -I/usr/lib/jvm/java-8-openjdk-amd64/include/linux -I/home/nine/venvs/proj1/include -I/usr/include/python3.5m -c native/common/jp_invocationhandler.cpp -o build/temp.linux-x86_64-3.5/native/common/jp_invocationhandler.o\n",
      "    In file included from native/common/jp_invocationhandler.cpp:1:0:\n",
      "    native/common/include/jpype.h:45:17: fatal error: jni.h: No such file or directory\n",
      "     #include <jni.h>\n",
      "                     ^\n",
      "    compilation terminated.\n",
      "    error: command 'x86_64-linux-gnu-gcc' failed with exit status 1\n",
      "    ----------------------------------------\u001b[0m\n",
      "\u001b[31mERROR: Command errored out with exit status 1: /home/nine/venvs/proj1/bin/python -u -c 'import sys, setuptools, tokenize; sys.argv[0] = '\"'\"'/tmp/pip-install-qra6hi9_/JPype1-py3/setup.py'\"'\"'; __file__='\"'\"'/tmp/pip-install-qra6hi9_/JPype1-py3/setup.py'\"'\"';f=getattr(tokenize, '\"'\"'open'\"'\"', open)(__file__);code=f.read().replace('\"'\"'\\r\\n'\"'\"', '\"'\"'\\n'\"'\"');f.close();exec(compile(code, __file__, '\"'\"'exec'\"'\"'))' install --record /tmp/pip-record-4dvgnszi/install-record.txt --single-version-externally-managed --compile --install-headers /home/nine/venvs/proj1/include/site/python3.5/JPype1-py3 Check the logs for full command output.\u001b[0m\n",
      "\u001b[?25h/bin/sh: 1: Syntax error: \"(\" unexpected\n"
     ]
    }
   ],
   "source": [
    "!apt-get update\n",
    "!apt-get install g++ openjdk-8-jdk python-dev python3-dev\n",
    "!pip3 install JPype1-py3 konlpy pandas tqdm\n",
    "!bash <(curl -s https://raw.githubusercontent.com/konlpy/konlpy/master/scripts/mecab.sh)\n",
    "!JAVA_HOME=\"/usr/lib/jvm/java-8-openjdk-amd64\""
   ]
  },
  {
   "cell_type": "markdown",
   "metadata": {},
   "source": [
    "## read data"
   ]
  },
  {
   "cell_type": "code",
   "execution_count": 1,
   "metadata": {},
   "outputs": [
    {
     "name": "stdout",
     "output_type": "stream",
     "text": [
      "              id                                           document  label\n",
      "0        9976970                                아 더빙.. 진짜 짜증나네요 목소리      0\n",
      "1        3819312                  흠...포스터보고 초딩영화줄....오버연기조차 가볍지 않구나      1\n",
      "2       10265843                                  너무재밓었다그래서보는것을추천한다      0\n",
      "3        9045019                      교도소 이야기구먼 ..솔직히 재미는 없다..평점 조정      0\n",
      "4        6483659  사이몬페그의 익살스런 연기가 돋보였던 영화!스파이더맨에서 늙어보이기만 했던 커스틴 ...      1\n",
      "5        5403919      막 걸음마 뗀 3세부터 초등학교 1학년생인 8살용영화.ㅋㅋㅋ...별반개도 아까움.      0\n",
      "6        7797314                              원작의 긴장감을 제대로 살려내지못했다.      0\n",
      "7        9443947  별 반개도 아깝다 욕나온다 이응경 길용우 연기생활이몇년인지..정말 발로해도 그것보단...      0\n",
      "8        7156791                             액션이 없는데도 재미 있는 몇안되는 영화      1\n",
      "9        5912145      왜케 평점이 낮은건데? 꽤 볼만한데.. 헐리우드식 화려함에만 너무 길들여져 있나?      1\n",
      "10       9008700                                   걍인피니트가짱이다.진짜짱이다♥      1\n",
      "11      10217543        볼때마다 눈물나서 죽겠다90년대의 향수자극!!허진호는 감성절제멜로의 달인이다~      1\n",
      "12       5957425                울면서 손들고 횡단보도 건널때 뛰쳐나올뻔 이범수 연기 드럽게못해      0\n",
      "13       8628627  담백하고 깔끔해서 좋다. 신문기사로만 보다 보면 자꾸 잊어버린다. 그들도 사람이었다...      1\n",
      "14       9864035  취향은 존중한다지만 진짜 내생에 극장에서 본 영화중 가장 노잼 노감동임 스토리도 어...      0\n",
      "15       6852435                                   ㄱ냥 매번 긴장되고 재밋음ㅠㅠ      1\n",
      "16       9143163  참 사람들 웃긴게 바스코가 이기면 락스코라고 까고바비가 이기면 아이돌이라고 깐다.그...      1\n",
      "17       4891476                 굿바이 레닌 표절인것은 이해하는데 왜 뒤로 갈수록 재미없어지냐      0\n",
      "18       7465483      이건 정말 깨알 캐스팅과 질퍽하지않은 산뜻한 내용구성이 잘 버무러진 깨알일드!!♥      1\n",
      "19       3989148                 약탈자를 위한 변명, 이라. 저놈들은 착한놈들 절대 아닌걸요.      1\n",
      "20       4581211          나름 심오한 뜻도 있는 듯. 그냥 학생이 선생과 놀아나는 영화는 절대 아님      1\n",
      "21       2718894                                  보면서 웃지 않는 건 불가능하다      1\n",
      "22       9705777  재미없다 지루하고. 같은 음식 영화인데도 바베트의 만찬하고 넘 차이남....바베트의...      0\n",
      "23        471131                       절대 평범한 영화가 아닌 수작이라는걸 말씀드립니다.      1\n",
      "24       8480268                                  주제는 좋은데 중반부터 지루하다      0\n",
      "25       4254115       다 짤랐을꺼야. 그래서 납득할 수 없었던거야.. 그럴꺼야.. 꼭 그랬던걸꺼야..      0\n",
      "26       7295746                                 kl2g 고추를 털어버려야 할텐데      1\n",
      "27       5457633                                           카밀라벨 발연기      0\n",
      "28       6091784                                               재밋는뎅      1\n",
      "29       8322926             센스있는 연출력..탁월한 캐스팅..90년대의 향수.. 그래서 9점..      1\n",
      "...          ...                                                ...    ...\n",
      "149970   9307870                                     한번더보고싶은영화 너무좋음      1\n",
      "149971   5109463                                   완전 고현정의 미친 연기 감동      1\n",
      "149972   3488317                   사랑이라는 감정에 빠진 적이 있던가 반문하게 만드는 걸작.      1\n",
      "149973   4433006      명감독의 지휘 아래 카리스마 빛나는 당대 톱배우들의 암살 대결이 흥미롭게 펼쳐진다      1\n",
      "149974   2602545                                베트남 전통복장 말고는 볼게 없다.      0\n",
      "149975   5993657                                   무지 자극적 에로틱 드라마!!      1\n",
      "149976   9811006  일본은 한국전쟁에 참전한적도 없고 2차세계대전이후 완전 패망했다가 한국전쟁 때 군수...      0\n",
      "149977   5183925                                      무슨말이 더 필요한가..      1\n",
      "149978   6798178  그리 만족스럽진못했어도 7점은 나와야되는것같아 10점줌. 주인공들연기도 훌륭했고 내...      1\n",
      "149979   4059827                                           배우들이 아깝다      0\n",
      "149980   8115087             아, 진짜 웃긴다...프랑스 영화 정말 싫어했었는데 이 영화는 열외~      1\n",
      "149981   9633559  시간이 아깝다. 어린 여주의 연기는 인상적이었고 나중이 기대되어서 좋았고 남주 여주...      0\n",
      "149982   9845927           평점너무낮아서 십점줌ㅋㅋㅋㅋ난진짜재밌던데 이런가벼운영화도 한번씩보면좋을듯      1\n",
      "149983   6455011             그냥생각없이 평점좀 쓰지마 OOO들아 두 배우의연기가 너무맘에 들었다      1\n",
      "149984   3687312     수술할정도로 아파본사람들만이 제대로 동감할수 있는영화..삶의 소중함.과 고마움...      1\n",
      "149985   4111621                        해석하기 나름인 패륜영화. 그래도 이건 아니잖니.      0\n",
      "149986   9962459                               1점도아깝다진짜 개빡친다 내아까운시간      0\n",
      "149987   7669621                                            재미있어요^^      1\n",
      "149988   8832485             와~ 이런 것도 영화라고... 차라리 뮤직비디오를 만드는 게 나을 뻔      0\n",
      "149989  10095032     아직 척편이여서 그런지 모르겠지만 내용 이해 불가50가지 그림자가 뭔지 모르겠습니다      0\n",
      "149990   6373651                                       이걸 영화라고 찎었냐?      0\n",
      "149991   9492905  http://blog.naver.com/oroblast/220215679580 나쁜...      1\n",
      "149992   9335962  공포나 재난영화가 아니라 아예 대놓고 비급 크리쳐개그물임ㅋㅋ 음악 완전 흥겹다ㅋ 5...      0\n",
      "149993  10020916                 For Carl.칼 세이건으로 시작해서 칼 세이건으로 끝난다.      1\n",
      "149994   9458520               디케이드 다음에 더블 다음에 오즈인데 더블은 조금밖에 안나오네요.      1\n",
      "149995   6222902                                인간이 문제지.. 소는 뭔죄인가..      0\n",
      "149996   8549745                                      평점이 너무 낮아서...      1\n",
      "149997   9311800                    이게 뭐요? 한국인은 거들먹거리고 필리핀 혼혈은 착하다?      0\n",
      "149998   2376369                        청춘 영화의 최고봉.방황과 우울했던 날들의 자화상      1\n",
      "149999   9619869                           한국 영화 최초로 수간하는 내용이 담긴 영화      0\n",
      "\n",
      "[149995 rows x 3 columns]\n"
     ]
    }
   ],
   "source": [
    "import pandas as pd\n",
    "\n",
    "df = pd.read_csv('https://raw.githubusercontent.com/fllff/nlp_basic_lec/master/ratings_train.txt',sep='\\t')\n",
    "\n",
    "# NaN 삭제\n",
    "df = df.dropna()\n",
    "\n",
    "print(df)"
   ]
  },
  {
   "cell_type": "markdown",
   "metadata": {},
   "source": [
    "## tokenization"
   ]
  },
  {
   "cell_type": "code",
   "execution_count": 2,
   "metadata": {},
   "outputs": [
    {
     "ename": "ImportError",
     "evalue": "/home/nine/venvs/proj1/lib/python3.5/site-packages/_jpype.cpython-35m-x86_64-linux-gnu.so: undefined symbol: PySlice_Unpack",
     "output_type": "error",
     "traceback": [
      "\u001b[0;31m---------------------------------------------------------------------------\u001b[0m",
      "\u001b[0;31mImportError\u001b[0m                               Traceback (most recent call last)",
      "\u001b[0;32m<ipython-input-2-86d0dcdbc93e>\u001b[0m in \u001b[0;36m<module>\u001b[0;34m\u001b[0m\n\u001b[0;32m----> 1\u001b[0;31m \u001b[0;32mfrom\u001b[0m \u001b[0mkonlpy\u001b[0m\u001b[0;34m.\u001b[0m\u001b[0mtag\u001b[0m \u001b[0;32mimport\u001b[0m \u001b[0mMecab\u001b[0m\u001b[0;34m\u001b[0m\u001b[0m\n\u001b[0m\u001b[1;32m      2\u001b[0m \u001b[0mmecab\u001b[0m \u001b[0;34m=\u001b[0m \u001b[0mMecab\u001b[0m\u001b[0;34m(\u001b[0m\u001b[0;34m)\u001b[0m\u001b[0;34m\u001b[0m\u001b[0m\n\u001b[1;32m      3\u001b[0m \u001b[0;34m\u001b[0m\u001b[0m\n\u001b[1;32m      4\u001b[0m \u001b[0mmecab\u001b[0m\u001b[0;34m.\u001b[0m\u001b[0mmorphs\u001b[0m\u001b[0;34m(\u001b[0m\u001b[0;34m'한국어 토큰 분리기 사용방법'\u001b[0m\u001b[0;34m)\u001b[0m\u001b[0;34m\u001b[0m\u001b[0m\n",
      "\u001b[0;32m/home/nine/venvs/proj1/lib/python3.5/site-packages/konlpy/__init__.py\u001b[0m in \u001b[0;36m<module>\u001b[0;34m\u001b[0m\n\u001b[1;32m     10\u001b[0m \u001b[0;34m\u001b[0m\u001b[0m\n\u001b[1;32m     11\u001b[0m \u001b[0;32mfrom\u001b[0m \u001b[0mkonlpy\u001b[0m\u001b[0;34m.\u001b[0m\u001b[0mjvm\u001b[0m \u001b[0;32mimport\u001b[0m \u001b[0minit_jvm\u001b[0m\u001b[0;34m\u001b[0m\u001b[0m\n\u001b[0;32m---> 12\u001b[0;31m from konlpy import (\n\u001b[0m\u001b[1;32m     13\u001b[0m     \u001b[0mcorpus\u001b[0m\u001b[0;34m,\u001b[0m\u001b[0;34m\u001b[0m\u001b[0m\n\u001b[1;32m     14\u001b[0m     \u001b[0mdata\u001b[0m\u001b[0;34m,\u001b[0m\u001b[0;34m\u001b[0m\u001b[0m\n",
      "\u001b[0;32m/home/nine/venvs/proj1/lib/python3.5/site-packages/konlpy/tag/__init__.py\u001b[0m in \u001b[0;36m<module>\u001b[0;34m\u001b[0m\n\u001b[1;32m      4\u001b[0m \u001b[0;32mimport\u001b[0m \u001b[0mwarnings\u001b[0m\u001b[0;34m\u001b[0m\u001b[0m\n\u001b[1;32m      5\u001b[0m \u001b[0;34m\u001b[0m\u001b[0m\n\u001b[0;32m----> 6\u001b[0;31m \u001b[0;32mfrom\u001b[0m \u001b[0mkonlpy\u001b[0m\u001b[0;34m.\u001b[0m\u001b[0mtag\u001b[0m\u001b[0;34m.\u001b[0m\u001b[0m_hannanum\u001b[0m \u001b[0;32mimport\u001b[0m \u001b[0mHannanum\u001b[0m\u001b[0;34m\u001b[0m\u001b[0m\n\u001b[0m\u001b[1;32m      7\u001b[0m \u001b[0;32mfrom\u001b[0m \u001b[0mkonlpy\u001b[0m\u001b[0;34m.\u001b[0m\u001b[0mtag\u001b[0m\u001b[0;34m.\u001b[0m\u001b[0m_kkma\u001b[0m \u001b[0;32mimport\u001b[0m \u001b[0mKkma\u001b[0m\u001b[0;34m\u001b[0m\u001b[0m\n\u001b[1;32m      8\u001b[0m \u001b[0;32mfrom\u001b[0m \u001b[0mkonlpy\u001b[0m\u001b[0;34m.\u001b[0m\u001b[0mtag\u001b[0m\u001b[0;34m.\u001b[0m\u001b[0m_komoran\u001b[0m \u001b[0;32mimport\u001b[0m \u001b[0mKomoran\u001b[0m\u001b[0;34m\u001b[0m\u001b[0m\n",
      "\u001b[0;32m/home/nine/venvs/proj1/lib/python3.5/site-packages/konlpy/tag/_hannanum.py\u001b[0m in \u001b[0;36m<module>\u001b[0;34m\u001b[0m\n\u001b[1;32m      5\u001b[0m \u001b[0;32mimport\u001b[0m \u001b[0mre\u001b[0m\u001b[0;34m\u001b[0m\u001b[0m\n\u001b[1;32m      6\u001b[0m \u001b[0;34m\u001b[0m\u001b[0m\n\u001b[0;32m----> 7\u001b[0;31m \u001b[0;32mimport\u001b[0m \u001b[0mjpype\u001b[0m\u001b[0;34m\u001b[0m\u001b[0m\n\u001b[0m\u001b[1;32m      8\u001b[0m \u001b[0;34m\u001b[0m\u001b[0m\n\u001b[1;32m      9\u001b[0m \u001b[0;32mfrom\u001b[0m \u001b[0mkonlpy\u001b[0m \u001b[0;32mimport\u001b[0m \u001b[0mjvm\u001b[0m\u001b[0;34m,\u001b[0m \u001b[0mutils\u001b[0m\u001b[0;34m\u001b[0m\u001b[0m\n",
      "\u001b[0;32m/home/nine/venvs/proj1/lib/python3.5/site-packages/jpype/__init__.py\u001b[0m in \u001b[0;36m<module>\u001b[0;34m\u001b[0m\n\u001b[1;32m     16\u001b[0m \u001b[0;31m#\u001b[0m\u001b[0;34m\u001b[0m\u001b[0;34m\u001b[0m\u001b[0m\n\u001b[1;32m     17\u001b[0m \u001b[0;31m# *****************************************************************************\u001b[0m\u001b[0;34m\u001b[0m\u001b[0;34m\u001b[0m\u001b[0m\n\u001b[0;32m---> 18\u001b[0;31m \u001b[0;32mimport\u001b[0m \u001b[0m_jpype\u001b[0m\u001b[0;34m\u001b[0m\u001b[0m\n\u001b[0m\u001b[1;32m     19\u001b[0m \u001b[0;32mfrom\u001b[0m \u001b[0;34m.\u001b[0m\u001b[0m_jinit\u001b[0m \u001b[0;32mimport\u001b[0m \u001b[0;34m*\u001b[0m\u001b[0;34m\u001b[0m\u001b[0m\n\u001b[1;32m     20\u001b[0m \u001b[0;32mfrom\u001b[0m \u001b[0;34m.\u001b[0m\u001b[0m_jpackage\u001b[0m \u001b[0;32mimport\u001b[0m \u001b[0;34m*\u001b[0m\u001b[0;34m\u001b[0m\u001b[0m\n",
      "\u001b[0;31mImportError\u001b[0m: /home/nine/venvs/proj1/lib/python3.5/site-packages/_jpype.cpython-35m-x86_64-linux-gnu.so: undefined symbol: PySlice_Unpack"
     ]
    }
   ],
   "source": [
    "from konlpy.tag import Mecab\n",
    "mecab = Mecab()\n",
    "\n",
    "mecab.morphs('한국어 토큰 분리기 사용방법')\n"
   ]
  },
  {
   "cell_type": "code",
   "execution_count": null,
   "metadata": {
    "scrolled": false
   },
   "outputs": [],
   "source": [
    "from tqdm import tqdm\n",
    "\n",
    "for i, row in tqdm(df.iterrows()):\n",
    "    df.at[i,'document'] = mecab.morphs(row['document'])\n",
    "    \n",
    "print(df)                                "
   ]
  },
  {
   "cell_type": "code",
   "execution_count": null,
   "metadata": {
    "scrolled": false
   },
   "outputs": [],
   "source": [
    "doc_list = df['document']\n",
    "label_list = df['label']\n",
    "\n",
    "doc_len_list = [len(doc) for doc in doc_list]\n",
    "\n",
    "# 문장길이 분포 확인\n",
    "distribution = [0]*20\n",
    "for doc_len in doc_len_list:\n",
    "    distribution[int(doc_len/10)] += 1\n",
    "print(distribution)\n",
    "\n",
    "# label균형 확인\n",
    "label_list.value_counts()"
   ]
  },
  {
   "cell_type": "code",
   "execution_count": null,
   "metadata": {},
   "outputs": [],
   "source": [
    "# 문장 길이 trim\n",
    "doc_list = [doc[:50] for doc in doc_list]\n",
    "\n",
    "# 문장길이 분포 확인\n",
    "distribution = [0]*20\n",
    "for doc in doc_list:\n",
    "    distribution[int(len(doc)/10)] += 1\n",
    "print(distribution)"
   ]
  },
  {
   "cell_type": "markdown",
   "metadata": {},
   "source": [
    "## vectorization\n"
   ]
  },
  {
   "cell_type": "code",
   "execution_count": null,
   "metadata": {},
   "outputs": [],
   "source": [
    "from gensim.models import Word2Vec\n",
    "model = Word2Vec(doc_list, size=16, window=5, min_count=50, workers=2, iter=3)\n"
   ]
  },
  {
   "cell_type": "code",
   "execution_count": null,
   "metadata": {},
   "outputs": [],
   "source": [
    "model.wv.most_similar('배우')"
   ]
  },
  {
   "cell_type": "code",
   "execution_count": null,
   "metadata": {},
   "outputs": [],
   "source": [
    "model.wv['배우']"
   ]
  },
  {
   "cell_type": "code",
   "execution_count": null,
   "metadata": {
    "scrolled": true
   },
   "outputs": [],
   "source": [
    "# token -> vector 변환\n",
    "vector_list = []\n",
    "for doc in tqdm(doc_list):\n",
    "    tmp = []\n",
    "    for token in doc:\n",
    "        try:\n",
    "            tmp.append(model.wv[token].tolist())\n",
    "        except:\n",
    "            tmp.append([0]*10)\n",
    "        \n",
    "    vector_list.append(tmp)\n",
    "    \n",
    "print(vector_list[0])\n"
   ]
  },
  {
   "cell_type": "code",
   "execution_count": null,
   "metadata": {},
   "outputs": [],
   "source": [
    "MAX_LEN = 50\n",
    "tmp=[]\n",
    "\n",
    "for i, vector in tqdm(enumerate(vector_list)):\n",
    "    vector_list[i].extend([[0]*16 for x in range(MAX_LEN-len(vector))])\n",
    "\n",
    "print(len(vector_list[0]))"
   ]
  },
  {
   "cell_type": "markdown",
   "metadata": {},
   "source": [
    "## Model"
   ]
  },
  {
   "cell_type": "code",
   "execution_count": 1,
   "metadata": {},
   "outputs": [
    {
     "data": {
      "text/plain": [
       "'2.2.0'"
      ]
     },
     "execution_count": 1,
     "metadata": {},
     "output_type": "execute_result"
    }
   ],
   "source": [
    "import tensorflow as tf\n",
    "tf.__version__"
   ]
  },
  {
   "cell_type": "code",
   "execution_count": null,
   "metadata": {},
   "outputs": [],
   "source": []
  }
 ],
 "metadata": {
  "kernelspec": {
   "display_name": "Python 3",
   "language": "python",
   "name": "python3"
  },
  "language_info": {
   "codemirror_mode": {
    "name": "ipython",
    "version": 3
   },
   "file_extension": ".py",
   "mimetype": "text/x-python",
   "name": "python",
   "nbconvert_exporter": "python",
   "pygments_lexer": "ipython3",
   "version": "3.5.2"
  }
 },
 "nbformat": 4,
 "nbformat_minor": 4
}
